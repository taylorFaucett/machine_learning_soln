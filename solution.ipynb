{
 "cells": [
  {
   "cell_type": "markdown",
   "source": [
    "# Machina Labs\n",
    "## Homework/Problem Solution\n",
    "\n",
    "Thank you for the opportunity to interview at Machina Labs. This was a really interesting dataset to work on and, in particular, it was instructive to model real world data.\n",
    "\n",
    "I've tried to structure this jupyter notebook as cleanly as I could so that it is easy to follow different approaches I've tried. Also, for every model I trained I have stored a copy (as a pickle file) in the director `models`. This will allow you to see results without the need to personally re-train the models. For some methods (e.g. Neural Networks), the training time is quite long (especially without a dedicated GPU) so loading the model will be quick.\n",
    "\n",
    "I've provided an environment.yml file with the necessary python packages. If you're using conda, you should be able to easily create a new environment with\n",
    "\n",
    "```bash\n",
    "conda env create -p machina_hw -f environment.yml\n",
    "```\n",
    "\n",
    "I have also moved the 3 data files (`Test1.csv`, `Test2.csv`, `Test4.csv`) to a dedicated data directory (i.e. `data`)."
   ],
   "metadata": {
    "collapsed": false,
    "pycharm": {
     "name": "#%% md\n"
    }
   }
  },
  {
   "cell_type": "code",
   "execution_count": null,
   "outputs": [],
   "source": [],
   "metadata": {
    "collapsed": false,
    "pycharm": {
     "name": "#%%\n"
    }
   }
  }
 ],
 "metadata": {
  "kernelspec": {
   "display_name": "Python 3",
   "language": "python",
   "name": "python3"
  },
  "language_info": {
   "codemirror_mode": {
    "name": "ipython",
    "version": 2
   },
   "file_extension": ".py",
   "mimetype": "text/x-python",
   "name": "python",
   "nbconvert_exporter": "python",
   "pygments_lexer": "ipython2",
   "version": "2.7.6"
  }
 },
 "nbformat": 4,
 "nbformat_minor": 0
}